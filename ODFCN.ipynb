{
  "nbformat": 4,
  "nbformat_minor": 0,
  "metadata": {
    "colab": {
      "name": "ODFCN.ipynb",
      "provenance": [],
      "collapsed_sections": []
    },
    "kernelspec": {
      "name": "python3",
      "display_name": "Python 3"
    },
    "language_info": {
      "name": "python"
    }
  },
  "cells": [
    {
      "cell_type": "markdown",
      "source": [
        "## Kalman Filter\n",
        "This is the implementation of constant turn model. Consider a situation where our object under observation is moving in a circular path at constant velocity. The positions of the object are measured at each timestamp through the camera sensors. Lets begin with defining the state space vector of our object "
      ],
      "metadata": {
        "id": "85GXEtANIC4w"
      }
    },
    {
      "cell_type": "markdown",
      "source": [
        "### Observation Model\n",
        "\n",
        "$$\n",
        "z_k = \\textbf{H}.x_k +v_k \n",
        "$$\n",
        "\n",
        "$$\n",
        "z_k = \\begin{bmatrix}\n",
        "    1&0&0&0  \\\\\n",
        "    0&0&1&0 \\\\\n",
        "\\end{bmatrix}. x_k\n",
        "$$ "
      ],
      "metadata": {
        "id": "Lv0X_NzxO5vb"
      }
    },
    {
      "cell_type": "markdown",
      "source": [
        "### Error Covariance\n",
        "$$ w_k \\sim \\mathcal{N}(0,\\,\\textbf{Q})$$\n",
        "\n",
        "$$\\textbf{Q} = S \\begin{bmatrix}\n",
        "    σ_x^2&0&σ_{x \\Delta x}&0  \\\\\n",
        "    0&σ_y^2&0&σ_{y \\Delta y}\\\\\n",
        "    σ_{\\Delta x x}&0&σ_{\\Delta x}^2&0 \\\\\n",
        "    0&σ_{\\Delta y y}&0&σ_{\\Delta y}^2 \\\\\n",
        "\\end{bmatrix}$$\n",
        "\n",
        "$$\\textbf{Q} = S \\begin{bmatrix}\n",
        "    \\frac{T^3}{3}&\\frac{T^2}{2}&0&0  \\\\\n",
        "    \\frac{T^2}{2}&T&0&0\\\\\n",
        "    0&0&\\frac{T^3}{3}&\\frac{T^2}{2} \\\\\n",
        "    0&0&\\frac{T^2}{2}&T\\\\\n",
        "\\end{bmatrix}$$\n",
        "\n",
        "\n",
        "\n",
        "\n",
        "### Measurement Covariance\n",
        "$$ v_k \\sim \\mathcal{N}(0,\\,\\textbf{R})$$\n",
        "$$ \\textbf{R} = σ^2 \\textbf{I}$$\n",
        "$$\\textbf{R} =  \\begin{bmatrix}\n",
        "    σ_x^2&0  \\\\\n",
        "    0&σ_y^2\\\\\n",
        "\\end{bmatrix}$$\n",
        "\n",
        "### Initial Uncertainity \n",
        "$$\\textbf{P} = \\begin{bmatrix}\n",
        "    σ_x^2&0&0&0  \\\\\n",
        "    0&σ_{Δx}^2&0&0 \\\\\n",
        "    0&0&σ_x^2&0 \\\\\n",
        "    0&0&0&σ_{Δy}^2 \\\\\n",
        "\\end{bmatrix} $$\n",
        " \n",
        "\n",
        "\n"
      ],
      "metadata": {
        "id": "ay0TCgSMfn6N"
      }
    },
    {
      "cell_type": "markdown",
      "source": [
        "### Prediction Step\n",
        "$${x_{k+1}} = A.{x_k} \n",
        "$$\n",
        "\n",
        "$$\n",
        "P_{k+1} = A_k.P_k.A^T +Q\n",
        "$$"
      ],
      "metadata": {
        "id": "YXbyrnUxnv90"
      }
    },
    {
      "cell_type": "markdown",
      "source": [
        "### Update Step\n",
        "\n",
        "For each measurement from camera:\n",
        "\n",
        "Computing the Kalman Gain:\n",
        "$$\n",
        "K_k = P_k.H^T(H.P_k.H^T+R)^{-1} \n",
        "$$\n",
        "\n",
        "Updating the estimate using position measurements from the camera:\n",
        "$$\n",
        "x_k = x_k+K_k(z_x-H.x_k)\n",
        "$$\n",
        "\n",
        "Updating the error covariance matrix:\n",
        "$$\n",
        "P_k = (I-K_k.H)P_k\n",
        "$$\n"
      ],
      "metadata": {
        "id": "-0JqalnNp5vX"
      }
    }
  ]
}