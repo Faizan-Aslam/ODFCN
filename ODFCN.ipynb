{
  "nbformat": 4,
  "nbformat_minor": 0,
  "metadata": {
    "colab": {
      "name": "ODFCN.ipynb",
      "provenance": [],
      "collapsed_sections": []
    },
    "kernelspec": {
      "name": "python3",
      "display_name": "Python 3"
    },
    "language_info": {
      "name": "python"
    }
  },
  "cells": [
    {
      "cell_type": "markdown",
      "source": [
        "# Object Detection and Fusion in a Camera Network\n",
        "The goal of the project is to combine multiple measurements from a distributed\n",
        "sensor network, gathered centrally and fused to produce a location estimate with\n",
        "less uncertainty than one obtainable from only a single sensor. Five raspberry pi powered cameras mounted on a frame aimed at the ground are employed to track an object which is moving in a circular path at a constant\n",
        "angular velocity at regular time intervals.\n",
        "\n",
        "These images are used to detect the position of the object using an object\n",
        "detection algorithm and are used together in Kalman Filter to\n",
        "estimate the location with decreased uncertainity."
      ],
      "metadata": {
        "id": "XgKx7fOsRa77"
      }
    },
    {
      "cell_type": "markdown",
      "source": [
        "## Object Detection\n",
        "\n",
        "The uncertain measurements are obtained using off the shelf harris corner detection object detection algorithm. We used a mask of a very narrow color space to make the red-colored one on the top of our object(a car) prominent. The harris corner detection gives us possible corners which are aggregated to get an average uncertain measurement. For details of the algorithm feel free to have look at  [detector.py](files/notebook2.ipynb)\n",
        "\n",
        "\n",
        "\n",
        "\n",
        "\n",
        "<br>\n",
        "![](misc/detection.png)"
      ],
      "metadata": {
        "id": "4-cxAIjMShN2"
      }
    },
    {
      "cell_type": "markdown",
      "source": [
        "## Raspberry-Pi Inter Communication\n",
        "Communication among the pi modules is\n",
        "achieved by building a server-client architecture with a\n",
        "local machine as a central server node and all other pi’s\n",
        "as connecting client nodes. Both server and the clients\n",
        "should be in the same network to be able to\n",
        "communicate with each other. The communication is achieved using the Python Socketio library. \n",
        "\n",
        "\n",
        "\n",
        "![](misc/pi-inter.PNG)",
         "<br>\n",
        "\n",
        "Our goal is to develop an architecture where upon connection of all 5 clients the server activates all the cameras to take synchronous photos after regular intervals Details are given in [client.py](files/notebook2.ipynb) and [server.py](files/notebook2.ipynb)\n",
        "\n",
        "\n",
        "\n",
        "```\n",
        "libcamera-still -t {args.t} --width 1280 --height 960 --timelapse {args.timelapse} client_{args.client}_%03d.jpg'\n",
        "```\n",
        "<br>\n",
        "![](misc/photos-interval.png)"
      ],
      "metadata": {
        "id": "98W4q4IOXL3J"
      }
    },
    {
      "cell_type": "markdown",
      "source": [
        "## Camera Callibration\n",
        "After obtaining the readings from alll the camera the next task was to make the readings comparable. Since cameras had different orientations and were displaced at known distances from each other we applied translational and rotational transformations to get all readings in the same frame of reference.\n",
        "\n",
        "![](misc/callibration-2.png)",
        "\n",
         "<br>\n",
        "Translational distance are estimated using a chess board to measure the pixel to distance ratio. This ratio is then used to find the translations in pixel units as we have the real translations available. For reference look at [get_coordinates.py](files/notebook2.ipynb)\n",
        "\n",
        "<br>\n",
        "![](misc/callibration-1.png)",
        "\n",
        "$$\\begin{bmatrix}\n",
        "    X_{global}  \\\\\n",
        "    Y_{global} \\\\\n",
        "\\end{bmatrix}= \\begin{bmatrix}\n",
        "    X_t  \\\\\n",
        "    Y_t \\\\\n",
        "\\end{bmatrix} + \\begin{bmatrix}\n",
        "    \\cosθ & -\\sinθ \\\\\n",
        "    \\sinθ & \\cosθ \\\\\n",
        "\\end{bmatrix} . \\begin{bmatrix}\n",
        "    x_{local}  \\\\\n",
        "    y_{local} \\\\\n",
        "\\end{bmatrix}\n",
        "$$"
      ],
      "metadata": {
        "id": "rRFDPOK_jiH2"
      }
    },
    {
      "cell_type": "markdown",
      "source": [
        "## Kalman Filter\n",
        "This is the implementation of constant turn model. Consider a situation where our object under observation is moving in a circular path at constant velocity. The positions of the object are measured at each timestamp through the camera sensors. Lets begin with defining the state space vector of our object "
      ],
      "metadata": {
        "id": "85GXEtANIC4w"
      }
    },
    {
      "cell_type": "markdown",
      "source": [
        "###State Vector\n",
        "The state space vector can be defined as:\n",
        "$${x_k}= \\begin{bmatrix}\n",
        "    x_{k}  \\\\\n",
        "    \\dot x_k \\\\\n",
        "    y_{k} \\\\\n",
        "    \\dot y_k \\\\\n",
        "\\end{bmatrix}\n",
        "$$\n",
        "\n",
        "$$\n",
        "{x_{k+1}} = \\textbf{A}.{x_k} + \\textbf{B}{u_k} + {w_k}\n",
        "$$\n",
        "As the control input = 0\n",
        "$$\\begin{bmatrix}\n",
        "    x_{k+1}  \\\\\n",
        "    \\dot x_{k+1} \\\\\n",
        "    y_{k+1} \\\\\n",
        "    \\dot y_{k+1} \\\\\n",
        "\\end{bmatrix}= \\textbf{A}.\\begin{bmatrix}\n",
        "    x_{k}  \\\\\n",
        "    \\dot x_k \\\\\n",
        "    y_{k} \\\\\n",
        "    \\dot y_k \\\\\n",
        "\\end{bmatrix}\n",
        "$$\n",
        "\n",
        "\n",
        "$$\\begin{bmatrix}\n",
        "    x_{k+1}  \\\\\n",
        "    \\dot x_{k+1} \\\\\n",
        "    y_{k+1} \\\\\n",
        "    \\dot y_{k+1} \\\\\n",
        "\\end{bmatrix}= \\begin{bmatrix}\n",
        "    1&\\frac{\\sinωT}{ω}&0&-\\frac{1-\\cosωT}{ω}  \\\\\n",
        "    0&\\cosωT&0&-\\sinωT\\\\\n",
        "    0&\\frac{1-\\cosωT}{ω}&1&\\frac{\\sinωT}{ω} \\\\\n",
        "    0&-\\sinωT&0&\\cosωT \\\\\n",
        "\\end{bmatrix}.\\begin{bmatrix}\n",
        "    x_{k}  \\\\\n",
        "    \\dot x_k \\\\\n",
        "    y_{k} \\\\\n",
        "    \\dot y_k \\\\\n",
        "\\end{bmatrix}\n",
        "$$\n",
        "<br>\n",
        "Here ω is the constant angular velocity measured through taking an average of the turn taken by the object in each intervals. This can be done using photos at regular intervals\n",
        "\n",
        "\n"
      ],
      "metadata": {
        "id": "Tf14GtNlIqmX"
      }
    },
    {
      "cell_type": "markdown",
      "source": [
        "### Observation Model\n",
        "\n",
        "$$\n",
        "z_k = \\textbf{H}.x_k +v_k \n",
        "$$\n",
        "\n",
        "$$\n",
        "z_k = \\begin{bmatrix}\n",
        "    1&0&0&0  \\\\\n",
        "    0&0&1&0 \\\\\n",
        "\\end{bmatrix}. x_k\n",
        "$$ "
      ],
      "metadata": {
        "id": "Lv0X_NzxO5vb"
      }
    },
    {
      "cell_type": "markdown",
      "source": [
        "### Error Covariance\n",
        "$$ w_k \\sim \\mathcal{N}(0,\\,\\textbf{Q})$$\n",
        "\n",
        "$$\\textbf{Q} = S \\begin{bmatrix}\n",
        "    σ_x^2&0&σ_{x \\Delta x}&0  \\\\\n",
        "    0&σ_y^2&0&σ_{y \\Delta y}\\\\\n",
        "    σ_{\\Delta x x}&0&σ_{\\Delta x}^2&0 \\\\\n",
        "    0&σ_{\\Delta y y}&0&σ_{\\Delta y}^2 \\\\\n",
        "\\end{bmatrix}$$\n",
        "\n",
        "$$\\textbf{Q} = S \\begin{bmatrix}\n",
        "    \\frac{T^3}{3}&\\frac{T^2}{2}&0&0  \\\\\n",
        "    \\frac{T^2}{2}&T&0&0\\\\\n",
        "    0&0&\\frac{T^3}{3}&\\frac{T^2}{2} \\\\\n",
        "    0&0&\\frac{T^2}{2}&T\\\\\n",
        "\\end{bmatrix}$$\n",
        "\n",
        "\n",
        "\n",
        "\n",
        "### Measurement Covariance\n",
        "$$ v_k \\sim \\mathcal{N}(0,\\,\\textbf{R})$$\n",
        "$$ \\textbf{R} = σ^2 \\textbf{I}$$\n",
        "$$\\textbf{R} =  \\begin{bmatrix}\n",
        "    σ_x^2&0  \\\\\n",
        "    0&σ_y^2\\\\\n",
        "\\end{bmatrix}$$\n",
        "\n",
        "### Initial Uncertainity \n",
        "$$\\textbf{P} = \\begin{bmatrix}\n",
        "    σ_x^2&0&0&0  \\\\\n",
        "    0&σ_{Δx}^2&0&0 \\\\\n",
        "    0&0&σ_x^2&0 \\\\\n",
        "    0&0&0&σ_{Δy}^2 \\\\\n",
        "\\end{bmatrix} $$\n",
        " \n",
        "\n",
        "\n"
      ],
      "metadata": {
        "id": "ay0TCgSMfn6N"
      }
    },
    {
      "cell_type": "markdown",
      "source": [
        "### Prediction Step\n",
        "$${x_{k+1}} = A.{x_k} \n",
        "$$\n",
        "\n",
        "$$\n",
        "P_{k+1} = A_k.P_k.A^T +Q\n",
        "$$"
      ],
      "metadata": {
        "id": "YXbyrnUxnv90"
      }
    },
    {
      "cell_type": "markdown",
      "source": [
        "### Update Step\n",
        "\n",
        "For each measurement from camera:\n",
        "\n",
        "Computing the Kalman Gain:\n",
        "$$\n",
        "K_k = P_k.H^T(H.P_k.H^T+R)^{-1} \n",
        "$$\n",
        "\n",
        "Updating the estimate using position measurements from the camera:\n",
        "$$\n",
        "x_k = x_k+K_k(z_x-H.x_k)\n",
        "$$\n",
        "\n",
        "Updating the error covariance matrix:\n",
        "$$\n",
        "P_k = (I-K_k.H)P_k\n",
        "$$\n",
        "\n",
        "For reference look at [filter.py](files/notebook2.ipynb)"
      ],
      "metadata": {
        "id": "-0JqalnNp5vX"
      }
    },
    {
      "cell_type": "markdown",
      "source": [
        
        
        
       ],
      "metadata": {
        "id": "1X1rBe--whSD"
      }
    }
  ]
}
